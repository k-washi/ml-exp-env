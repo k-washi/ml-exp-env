{
 "cells": [
  {
   "cell_type": "code",
   "execution_count": 1,
   "id": "e06300b2-123c-4d3b-85e7-7df6db536478",
   "metadata": {},
   "outputs": [
    {
     "name": "stdout",
     "output_type": "stream",
     "text": [
      "/workspace\n"
     ]
    }
   ],
   "source": [
    "%cd /workspace"
   ]
  },
  {
   "cell_type": "code",
   "execution_count": 2,
   "id": "fe97b053-7aa8-4d9c-86df-a5be99e3edba",
   "metadata": {},
   "outputs": [
    {
     "name": "stdout",
     "output_type": "stream",
     "text": [
      "book_shelf.MOV\tbs_data  wd_data  work_data.MOV\n",
      "book_shelf.gif\tbs_imgs  wd_imgs\n"
     ]
    }
   ],
   "source": [
    "!ls ./data"
   ]
  },
  {
   "cell_type": "code",
   "execution_count": 3,
   "id": "67b3518e-d5c1-4cc0-808a-9550d9b37c5a",
   "metadata": {},
   "outputs": [],
   "source": [
    "import cv2\n",
    "import os\n",
    "import math\n",
    "from PIL import Image\n",
    "import glob"
   ]
  },
  {
   "cell_type": "code",
   "execution_count": 4,
   "id": "bb1a0dd8-67d0-4d39-8559-157ba4015902",
   "metadata": {},
   "outputs": [],
   "source": [
    "VIDEO_PATH = \"./data/work_data.MOV\"\n",
    "IMAGE_DIR = \"./data/wd_imgs\"\n",
    "GIF_PATH = \"./data/work_data.gif\" \n",
    "OUTPUT_FPS = 10"
   ]
  },
  {
   "cell_type": "code",
   "execution_count": 5,
   "id": "b18f0d1d",
   "metadata": {},
   "outputs": [],
   "source": [
    "os.makedirs(IMAGE_DIR, exist_ok=True)"
   ]
  },
  {
   "cell_type": "code",
   "execution_count": 36,
   "id": "f51c4e8d-7dfc-49b1-afd0-49c3d1d301e5",
   "metadata": {},
   "outputs": [],
   "source": []
  },
  {
   "cell_type": "code",
   "execution_count": 37,
   "id": "1259fbb4",
   "metadata": {},
   "outputs": [
    {
     "name": "stdout",
     "output_type": "stream",
     "text": [
      "59.96810207336523\n"
     ]
    }
   ],
   "source": []
  },
  {
   "cell_type": "code",
   "execution_count": 6,
   "id": "664b56f3",
   "metadata": {
    "tags": []
   },
   "outputs": [
    {
     "name": "stdout",
     "output_type": "stream",
     "text": [
      "59.966024915062285\n"
     ]
    }
   ],
   "source": [
    "cap = cv2.VideoCapture(VIDEO_PATH)\n",
    "if not cap.isOpened():\n",
    "    print(f\"{VIDEO_PATH} can not cap\")\n",
    "\n",
    "# get param\n",
    "video_fps = cap.get(cv2.CAP_PROP_FPS)\n",
    "print(video_fps)\n",
    "\n",
    "# save images\n",
    "save_count = 0\n",
    "frame_count = 0\n",
    "skip_frame = video_fps / OUTPUT_FPS\n",
    "while True:\n",
    "    ret, frame = cap.read()\n",
    "    if not ret:\n",
    "        break\n",
    "\n",
    "    if math.floor(frame_count % skip_frame) == 0:\n",
    "        # image save\n",
    "        if ret:\n",
    "            cv2.imwrite(os.path.join(IMAGE_DIR, f\"{str(save_count).zfill(5)}.png\"), frame)\n",
    "\n",
    "        save_count += 1\n",
    "    \n",
    "    frame_count += 1\n",
    "\n",
    "cap.release()\n"
   ]
  },
  {
   "cell_type": "code",
   "execution_count": 7,
   "id": "e0443174",
   "metadata": {},
   "outputs": [],
   "source": [
    "# gif化する\n",
    "files = sorted(glob.glob(os.path.join(IMAGE_DIR, '*.png')))\n",
    "images = list(map(lambda file: Image.open(file), files))\n",
    "\n",
    "images[0].save(GIF_PATH, format=\"gif\", save_all=True, append_images=images[1:], duration=int(1000/OUTPUT_FPS), loop=0) # duration ms"
   ]
  },
  {
   "cell_type": "code",
   "execution_count": null,
   "id": "623ed644",
   "metadata": {},
   "outputs": [],
   "source": []
  }
 ],
 "metadata": {
  "kernelspec": {
   "display_name": "Python 3",
   "language": "python",
   "name": "python3"
  },
  "language_info": {
   "codemirror_mode": {
    "name": "ipython",
    "version": 3
   },
   "file_extension": ".py",
   "mimetype": "text/x-python",
   "name": "python",
   "nbconvert_exporter": "python",
   "pygments_lexer": "ipython3",
   "version": "3.8.6"
  }
 },
 "nbformat": 4,
 "nbformat_minor": 5
}
