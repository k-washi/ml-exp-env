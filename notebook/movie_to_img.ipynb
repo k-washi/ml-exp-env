{
 "cells": [
  {
   "cell_type": "code",
   "execution_count": 5,
   "id": "e06300b2-123c-4d3b-85e7-7df6db536478",
   "metadata": {},
   "outputs": [
    {
     "output_type": "stream",
     "name": "stdout",
     "text": [
      "/workspace\n"
     ]
    }
   ],
   "source": [
    "%cd /workspace"
   ]
  },
  {
   "cell_type": "code",
   "execution_count": 6,
   "id": "fe97b053-7aa8-4d9c-86df-a5be99e3edba",
   "metadata": {},
   "outputs": [
    {
     "output_type": "stream",
     "name": "stdout",
     "text": [
      "book_shelf.MOV\twork_data.MOV\n"
     ]
    }
   ],
   "source": [
    "!ls ./data"
   ]
  },
  {
   "cell_type": "code",
   "execution_count": 41,
   "id": "67b3518e-d5c1-4cc0-808a-9550d9b37c5a",
   "metadata": {},
   "outputs": [],
   "source": [
    "import cv2\n",
    "import os\n",
    "import math\n",
    "from PIL import Image\n",
    "import glob"
   ]
  },
  {
   "cell_type": "code",
   "execution_count": 42,
   "id": "bb1a0dd8-67d0-4d39-8559-157ba4015902",
   "metadata": {},
   "outputs": [],
   "source": [
    "VIDEO_PATH = \"./data/book_shelf.MOV\"\n",
    "IMAGE_DIR = \"./data/bs_imgs\"\n",
    "GIF_PATH = \"./data/book_shelf.gif\" \n",
    "OUTPUT_FPS = 10"
   ]
  },
  {
   "cell_type": "code",
   "execution_count": 35,
   "metadata": {},
   "outputs": [],
   "source": [
    "os.makedirs(IMAGE_DIR, exist_ok=True)"
   ]
  },
  {
   "cell_type": "code",
   "execution_count": 36,
   "id": "f51c4e8d-7dfc-49b1-afd0-49c3d1d301e5",
   "metadata": {},
   "outputs": [],
   "source": []
  },
  {
   "cell_type": "code",
   "execution_count": 37,
   "metadata": {},
   "outputs": [
    {
     "output_type": "stream",
     "name": "stdout",
     "text": [
      "59.96810207336523\n"
     ]
    }
   ],
   "source": []
  },
  {
   "cell_type": "code",
   "execution_count": 40,
   "metadata": {
    "tags": []
   },
   "outputs": [
    {
     "output_type": "stream",
     "name": "stdout",
     "text": [
      "59.96810207336523\n"
     ]
    }
   ],
   "source": [
    "cap = cv2.VideoCapture(VIDEO_PATH)\n",
    "if not cap.isOpened():\n",
    "    print(f\"{VIDEO_PATH} can not cap\")\n",
    "\n",
    "# get param\n",
    "video_fps = cap.get(cv2.CAP_PROP_FPS)\n",
    "print(video_fps)\n",
    "\n",
    "# save images\n",
    "save_count = 0\n",
    "frame_count = 0\n",
    "skip_frame = video_fps / OUTPUT_FPS\n",
    "while True:\n",
    "    ret, frame = cap.read()\n",
    "    if not ret:\n",
    "        break\n",
    "\n",
    "    if math.floor(frame_count % skip_frame) == 0:\n",
    "        # image save\n",
    "        if ret:\n",
    "            cv2.imwrite(os.path.join(IMAGE_DIR, f\"{str(save_count).zfill(5)}.png\"), frame)\n",
    "\n",
    "        save_count += 1\n",
    "    \n",
    "    frame_count += 1\n",
    "\n",
    "cap.release()\n"
   ]
  },
  {
   "cell_type": "code",
   "execution_count": 44,
   "metadata": {},
   "outputs": [],
   "source": [
    "# gif化する\n",
    "files = sorted(glob.glob(os.path.join(IMAGE_DIR, '*.png')))\n",
    "images = list(map(lambda file: Image.open(file), files))\n",
    "\n",
    "images[0].save(GIF_PATH, format=\"gif\", save_all=True, append_images=images[1:], duration=int(1000/OUTPUT_FPS), loop=0) # duration ms"
   ]
  },
  {
   "cell_type": "code",
   "execution_count": null,
   "metadata": {},
   "outputs": [],
   "source": []
  }
 ],
 "metadata": {
  "kernelspec": {
   "name": "python386jvsc74a57bd09de2f32ba8b3e90b71070380d4ee89cf82e8a88be269877ed69704db4fc1439a",
   "display_name": "Python 3.8.6 64-bit ('3.8.6')"
  },
  "language_info": {
   "codemirror_mode": {
    "name": "ipython",
    "version": 3
   },
   "file_extension": ".py",
   "mimetype": "text/x-python",
   "name": "python",
   "nbconvert_exporter": "python",
   "pygments_lexer": "ipython3",
   "version": "3.8.6-final"
  }
 },
 "nbformat": 4,
 "nbformat_minor": 5
}